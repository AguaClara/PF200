{
  "nbformat": 4,
  "nbformat_minor": 0,
  "metadata": {
    "colab": {
      "name": "PF200Report1.ipynb",
      "provenance": [],
      "authorship_tag": "ABX9TyNE9rFDe8s2q1f44mKeFnoc",
      "include_colab_link": true
    },
    "kernelspec": {
      "name": "python3",
      "display_name": "Python 3"
    }
  },
  "cells": [
    {
      "cell_type": "markdown",
      "metadata": {
        "id": "view-in-github",
        "colab_type": "text"
      },
      "source": [
        "<a href=\"https://colab.research.google.com/github/AguaClara/PF200/blob/master/PF200Spring2020Report1.ipynb\" target=\"_parent\"><img src=\"https://colab.research.google.com/assets/colab-badge.svg\" alt=\"Open In Colab\"/></a>"
      ]
    },
    {
      "cell_type": "markdown",
      "metadata": {
        "id": "pK1wkAX0P1I1",
        "colab_type": "text"
      },
      "source": [
        "#PF200 Spring 2020\n",
        "###Whitney Denison, Ashley Zeng, Sandra Cangelosi\n",
        "March 2020"
      ]
    },
    {
      "cell_type": "markdown",
      "metadata": {
        "id": "mKZ50UaAQESh",
        "colab_type": "text"
      },
      "source": [
        "#Abstract\n",
        "\n",
        "The PF200 is a small scale water treatment system designed with the goal to be easily shipped, fabricated, and implemented in small communities where a full scale plant is not economical to address their water needs. In the summer of 2019, a PF300 plant was built at the Cornell Water Treatment Plant and several design problems were found. The future goal is to redesign the PF200 system using data from the PF300 summer team as well as other past subteams. We are currently focused on redesigning the filter by implementing a new outlet pipe design. This pipe would replace the current slotted pipe design currently located in every other layer (above and below inlets) of the Stacked Rapid Sand Filters. Last semester, we redesigned the outlet pipe, and 3D printed prototypes for testing use. Moving forward this semester, we plan to use our prototype and conduct testing to observe if the new design is more effective. Our ultimate goal is to redesign the entire plant, with a major focus on the filter."
      ]
    },
    {
      "cell_type": "markdown",
      "metadata": {
        "id": "vVjOBwbMQIN6",
        "colab_type": "text"
      },
      "source": [
        "#Introduction\n",
        "\n",
        "The PF200 plant is designed to be a complete water treatment system that can easily be shipped and fabricated on site to provide potable water to small communities at a rate of 0.67 L/s. This is a step down from the PF300 system designed by the Summer 2019 Team to provide 1 L/s of clean water. The change in name was made when it was found that the so-called PF300 only provided 0.67 L/s, and thus could serve a community of 200 people rather than 300 as originally intended.\n",
        "\n",
        "The Summer 2019 Team built and tested the PF300 at the Cornell Water Treatment plant and found several problems with the design. The first and most prevalent issue was that the filter did not work properly. An indicator of this failure was that significant amounts of sand escaped into the exit tank from the filter during backwash. We intend to redesign the PF200 system. The filter tank will be made with transparent PVC so that we can observe what happens during filtration and backwash. This will allow us to determine if sand continues to escape into the exit tank and allow us to observe the formation of the gravity exclusion zones. The filter tank will be a rectangular prism instead of a circular PVC pipe in order to better fit EStaRS filters, allow for easier fabrication of inlet and outlet pipes, and minimize cost as a clear circular PVC pipe of such a diameter is expensive. The EStaRS filter outlet pipe will be redesigned to prevent sand from entering the exit tank.\n",
        "\n",
        "This team is also responsible for the redesign of the flocculator and sedimentation tank at this smaller scale. The problems with these processes in this plant are described in the Future Work section of this report.\n"
      ]
    },
    {
      "cell_type": "markdown",
      "metadata": {
        "id": "00EJoK25QKch",
        "colab_type": "text"
      },
      "source": [
        "#Literature Review and Previous Work\n",
        "\n",
        "The literature referenced for this new redesign includes the StaRS FiNE Spring 2019 report,  Summer 2019 PF300 Team report, the Fall 2019 PF200 Team report,  and reports written by the AguaClara Horizontal Filtration subteam. \n",
        "\n",
        "In Spring 2019, the StaRS FiNE Team designed an alternative design for outlet pipes that was triangular in shape and had larger openings to prevent clogs (referred to as the “Christmas tree” design). Their 3D apparatus was modeled after the gravitation exclusion principle, as well as research performed by the AguaClara Horizontal Filtration subteam. The gravitaty exclusion principle suggests that if a branch of the flow channel created a surface with a specific angle, sand that entered the channel and got onto the branch it would slide down with gravity and remain outside of the effluent. The optimal angle in the structure built by the StARS FiNE Team was 26.6 degrees. After experimentation, the StaRS FiNE team found that this design was able to withstand very high filtration speeds without failure. The second trial in the experiment also showed that the bottom branch of the filter could handle high velocities of filtration without sand leaving in the outlet pipes.\n",
        "\n",
        "In Summer 2019, the PF300 Team connected the EStaRs filter to the PF300 plant (now called PF200) and determined an issue within the filtration system: the escape of sand through influent and effluent pipes. Because the sand was escaping the inner tank to the effluent, which the slotted outlet pipes were designed to prevent, the team concluded that all of the slotted pipes in the filter were designed incorrectly.  Due to the significant amounts of sand within the exit tank, the EStars filter design was categorized as having a clear failure. The team resolved to assemble a new filter, using the design by Stars FINE in Spring 2019.\n",
        "\n",
        "In Fall 2019, the PF200 Team began to redesign the model PF200 plant to minimize the issues associated with the Summer 2019 PF300 plant. For the exterior of the tank, they designed a rectangular filtration tank with clear transparent PVC. This was predicted to be superior from past designs, since it would better fit EStaRS filters, allow for easier fabrication of inlet and outlet pipes, minimize cost, and allow the team to observe if sand would continue to escape into the exit tank. For the interior of the tank, the team proposed a filter that would introduce gravity exclusion zones in the outlets with the new 3D printed flow channels. Through an optimization process related to the overall dimension of the filter tank, required head loss, and the inclination of the branches, the dimensions of a new filtration model was obtained using the Excel solver and 3-D printed. This design is what PF200 Spring 2020 Team will be fabricating and experimenting on. "
      ]
    },
    {
      "cell_type": "markdown",
      "metadata": {
        "id": "Dhu09oD9QQ3d",
        "colab_type": "text"
      },
      "source": [
        "#Future Work\n",
        "\n",
        "Because the PF200 plant also includes a flocculator and sedimentation tank, there is still so much to be accomplished after the filter design is finalized. There is a proposed redesign for the bottom geometry of the sedimentation tank, and an idea for hexagonal straws to replace the previous system of plate settlers. The floc hopper currently being used is too small, so measurements need to be made to figure out how big the exit has to be to make sure there is not a sludge buildup, and possibly multiple jet reversers could be used in this redesign as well. \n",
        "\n",
        "There is a new flocculation system being proposed as well to make fabrication easier. The entire design has not been completed yet, but the next iteration could be a large tube (like the current sedimentation tank) with the conventional baffles. Securing these baffles is another design challenge that must be overcome to make this a reality, but there are already some proposed solutions. "
      ]
    },
    {
      "cell_type": "markdown",
      "metadata": {
        "id": "ZC57bpWjRruJ",
        "colab_type": "text"
      },
      "source": [
        "#Manual"
      ]
    },
    {
      "cell_type": "markdown",
      "metadata": {
        "id": "TTuK6AGLRuDw",
        "colab_type": "text"
      },
      "source": [
        "##Fabrication Details\n",
        "<img src=\"https://github.com/AguaClara/PF200/blob/master/Images/p.JPG?raw=true\" width=400> \n",
        "\n",
        "**Figure 1** A front look at the experimental model with the front piece of PVC removed in order to drill holes into the flow channel\n",
        "\n",
        "The section of the filter shown above is being fabricated to house the 3D printed model designed in the Fall 2019 semester by PF200. The flow channel will be held in place by stainless steel threaded rods and held in place by stainless steel wingnuts and washers on either side. The tank itself is made of 1/8 inch thick PVC sheets machine cut to size and held in shape by L-shaped aluminum brackets which are screwed into place by steel screws and held on by stainless steel flange nuts. The whole tank is sealed with silicon to ensure that the tank is water-tight.\n",
        "\n",
        "To measure the headloss through the filter, we will have a clear entrance tank (so we can measure the initial water height) which will be made of a capped PVC tubed that is drilled and tapped to allow for the same size tubing to pull water out. \n",
        "\n",
        "\n",
        "<img src=\"https://raw.githubusercontent.com/AguaClara/PF200/master/Images/Image%2011-4-19%20at%207.04%20PM.jpg\" width=500> \n",
        "\n",
        "**Figure 2** Front view of initial idea from PF200 Fall 2019\n",
        "\n",
        "The variables defined by PF200 last semester were maximized using the selection of reasonable numbers to allow for an Excel Solver to come to a reasonable, printable conclusion while also maximizing the sand-water interface, to minimize the chance of failure (sand leaving in the effluent). This initial design shows the variables that this team will go back and change in future iterations of the flow channel if this experimentation proves the current model does not work. "
      ]
    }
  ]
}