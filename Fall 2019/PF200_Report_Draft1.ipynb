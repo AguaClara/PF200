{
  "nbformat": 4,
  "nbformat_minor": 0,
  "metadata": {
    "colab": {
      "name": "PF200-Report-Draft1.ipynb",
      "provenance": [],
      "collapsed_sections": [],
      "include_colab_link": true
    },
    "kernelspec": {
      "name": "python3",
      "display_name": "Python 3"
    }
  },
  "cells": [
    {
      "cell_type": "markdown",
      "metadata": {
        "id": "view-in-github",
        "colab_type": "text"
      },
      "source": [
        "<a href=\"https://colab.research.google.com/github/AguaClara/PF200/blob/master/PF200_Report_Draft1.ipynb\" target=\"_parent\"><img src=\"https://colab.research.google.com/assets/colab-badge.svg\" alt=\"Open In Colab\"/></a>"
      ]
    },
    {
      "cell_type": "markdown",
      "metadata": {
        "id": "tpBfoDnOP9YY",
        "colab_type": "text"
      },
      "source": [
        "# PF 200, Fall 2019\n",
        "#### Whitney Denison, Fernando Merino Martinez, Nicole Wang, Jacob Wyrick, Amy You\n",
        "#### October 11, 2019"
      ]
    },
    {
      "cell_type": "markdown",
      "metadata": {
        "id": "CASatHgbV8Za",
        "colab_type": "text"
      },
      "source": [
        "## Abstract\n",
        "\n",
        "The PF200 is a small scale water treatment system designed with the goal to be easily shipped, fabricated, and then implemented in small communities where a full scale plant is not economical to address their water needs. Previously, a PF300 was built over the summer at the Cornell Water Treatment Plant and several design problems were found. The goal this semester is to redesign the PF200 system using the data from the PF300 summer team. We are currently attempting to implement a new outlet pipe design in order to minimize the amount of sand escaping to the exit tank during backwash. More broadly, our ultimate goal is to make a filtration system that works.\n",
        "\n",
        "## Introduction\n",
        "The PF200 system is designed to be a complete water treatment system that can easily be shipped and fabricated on site to provide clean water to small communities at a maximum rate of 0.66 L/s. The previous PF300 system built by the summer team at the Cornell Water Treatment plant encountered several problems. The first was that significant amounts of sand escaped into the exit tank during backwash. The second was that the filtration system did not work properly. We intend to redesign the PF200 system in the following ways:\n",
        "The filter tank will be made with transparent PVC so that we can observe what happens during filtration and backwash. This will also allow us to determine if sand continues to escape into the exit tank.\n",
        "The filter tank will be a rectangular prism instead of a circular PVC pipe in order to better fit the stacked rapid sand filters, allow for easier fabrication of stacked rapid sand filters, and minimize cost as a clear circular PVC pipe of that diameter is expensive.\n",
        "The EStaRS filter outlet pipe will be redesigned to prevent sand from entering the exit tank.\n",
        "\n",
        "## Literature Review\n",
        " The bulk of the literature for this team comes from reports from the reports of the summer PF300 team, StaRS FiNE, and the work of Horizontal Filtration. The minimum angle above the horizontal was defined by the slant necessary where sand begins to slide down with gravity against friction. The branched filtration tank outlet pipe idea from StaRS FInE has been modified to maximize the surface area of the sand-water interface. The filter used by PF300 has not been functioning at an acceptable level, so the small scale outlet pipe work may seem premature. However, this team is working on designing basically a whole new filter system, so studying past filter systems and the things that were problematic informs a new, better design. For example, we can use the information about the failure modes of the filter from the summer to target the exact things that went wrong and fix them. \n",
        "\n",
        "\n",
        "## Previous Work\n",
        "From the Summer 2019 PF200 Team (previously known as PF300), it was shown that the current design does not work well. Based on past research, increasing the height of the floc blanket will increase the amount of small particle removal. In order to experiment with the height of the floc blanket, it would have been easy to do so if the system was transparent, however because the system is not, other methods had to be used. This prompts an important design change in this semester’s system, a transparent system so that internal processes can be easily observed. One method considered was using a rangefinder to read the height from the top of the floc blanket. Another method was to approximate the height based on the time it takes for the flocs to begin to leave the floc hopper. \n",
        "\n",
        "The Summer 2019 team primarily worked on the filter. Summer 2019 was the first time an EStaRs filter has ever been fully assembled and tested in a treatment process. The main problem identified when it was operated was the escape of sand through the influent pipes. There were times when sand escaped due to operation error, for example, running backwash without first opening the effluent line, closing the backwash valve too quickly, or opening flow into the filter without stopping flow from the effluent. However, the problem of sand escaping into the effluent from the inner tank still remains. This issue strongly indicates that the design of the slotted outlet pipes, which were meant to keep the sand contained, were designed incorrectly. Based on these results, the Summer 2019 team suggested that the filter needs to be remade completely using the design of “gravity exclusion zones” by the [StaRS FInE](https://github.com/AguaClara/StaRSFine) Spring 2019 team.\n"
      ]
    },
    {
      "cell_type": "markdown",
      "metadata": {
        "id": "IjpN9_VPXDse",
        "colab_type": "text"
      },
      "source": [
        "**Calculation note:**\n",
        "1200 cm^2 SA/3 ticks/30 cm length=13.34 cm length needed for one flat tick"
      ]
    }
  ]
}