{
  "nbformat": 4,
  "nbformat_minor": 0,
  "metadata": {
    "colab": {
      "name": "PF200 Report Spring 2021.ipynb",
      "provenance": [],
      "collapsed_sections": [],
      "include_colab_link": true
    },
    "kernelspec": {
      "name": "python3",
      "display_name": "Python 3"
    }
  },
  "cells": [
    {
      "cell_type": "markdown",
      "metadata": {
        "id": "view-in-github",
        "colab_type": "text"
      },
      "source": [
        "<a href=\"https://colab.research.google.com/github/AguaClara/PF200/blob/master/PF200_Report_Spring_2021.ipynb\" target=\"_parent\"><img src=\"https://colab.research.google.com/assets/colab-badge.svg\" alt=\"Open In Colab\"/></a>"
      ]
    },
    {
      "cell_type": "markdown",
      "metadata": {
        "id": "TLAmaRBfCmiy"
      },
      "source": [
        "# PF200\n",
        "#### Sandra Cangelosi, Son-Jay Lake, Melissa Louie, Lynn Shin\n",
        "#### 19 March 2021"
      ]
    },
    {
      "cell_type": "markdown",
      "metadata": {
        "id": "BfeU4k7OCphn"
      },
      "source": [
        "## Abstract\n",
        "The PF200 is a small scale water treatment system designed to be easily shipped, fabricated, and implemented in small communities where a full scale plant is not economically viable. In the summer of 2019, a PF300 plant was built at the Cornell Water Treatment Plant and several failure points were observed in the design. The future goal is to redesign the PF200 system using data from the PF300 summer team as well as other past subteams. This semester, we are currently focused on redesigning the flocculator, by building off of the Flocculatorita design of the PF300 subteam. "
      ]
    },
    {
      "cell_type": "markdown",
      "metadata": {
        "id": "EqtwU-gRCrj9"
      },
      "source": [
        "## Introduction\n",
        "The PF200 is a small-scale pre-fabricated water treatment plant designed to serve a community of around 200 people with a flow rate of 0.67 L/s. The size of the plant makes it a more economically viable alternative to building a full-scale plant, especially for smaller rural communities. \n",
        "\n",
        "There are currently several PF200 plants in use in different communities in Honduras, including Copan, Cuatro Comunidades, and Manzaragua. Improvements must be made for various parts of the water treatment process, and the Spring 2021 team has decided to focus on redesigning the flocculator. The considerations for the redesign include economic viability and fabrication complexity. For example, the current iteration of the flocculation design includes many pipes, which drive up the cost of the plant significantly. Plant operators have also provided the feedback that a longer residence time in the flocculator is needed for when heavy rain events cause turbidity to spike, which would increase the cost of pipes even further. In addition, fluid deformations in the flocculator are created by small baffles, which are circular sheets of plastic threaded onto a rod that is then inserted into the flocculator pipes. The process of putting this design together is time-consuming and laborious.\n",
        "\n",
        "<center>\n",
        "<img src=\"https://raw.githubusercontent.com/AguaClara/PF200/master/Spring%202021/Images/Current%20Baffle.34.40%20PM.png\" height=250>\n",
        "\n",
        "Figure 1. Current baffle fabrication process in the existing flocculator design.\n",
        "</center>\n",
        "\n",
        "Therefore, the Spring 2021 team seeks to redesign the flocculator in a way that will reduce the cost of materials and will be simpler to fabricate. The redesign will be modeled on the traditional flocculator of the full-scale plants, except it will all be contained in one box made out of PVC sheets. The only fabrication will consist of welding the sides of the box together and cutting slots into the sheets, which will then interlock with each other to create the framework for the flocculator.\n"
      ]
    },
    {
      "cell_type": "markdown",
      "metadata": {
        "id": "FLDOXtNqCtAW"
      },
      "source": [
        "## Literature Review and Previous Work\n",
        "So far, the literature referenced for this new redesign is the Flocculatorita Report written by a Fall 2018 CEE 4520 team of Lily Falk, Nina Blahut, Marcin Sawczuk, and Yitzy Rosenberg.\n",
        "\n",
        "In Fall 2018, the PF300 subteam created a new design for a small-scale version of the flocculator. This alternate design was characterized by increased flexibility, and was made to be more scalable than previous designs. The general makeup included a large diameter pipe divided into channels with baffles. This design would enable obstructed flow of water. The team solved for volume and retention time, and found numerical values for active cross-sectional area and necessary diameter of the pipe. One interesting conclusion they reached was that there wasn’t a clear constraint on the number of channels or baffles that would be included. This allows for versatility in fabrication, and allows the user to make a decision regarding how much turbulent flow will be present. \n",
        "\n",
        "<center>\n",
        "  <img src=\"https://raw.githubusercontent.com/lilyfalk/CEE4520/master/IMG_4226.png\" height=300>\n",
        "    \n",
        "\n",
        "Figure 1. Top view of Spring 2021 proposed flocculator design from Fall 2018 CEE 4520 design project.\n",
        "  </center>\n",
        "\n",
        "\n",
        "One problem with this design, acknowledged in the report, was the significant ‘dead space’ that exists on all sides of the rectangular channel/baffle configuration. Since the apparatus is located inside a circular pipe, there are 4 equally sized empty spaces on each side where no water is flowing, which means that space is wasted. In our design, we seek to rectify this issue while simultaneously building off the Flocculatorita design. Our goal is to eliminate the circular pipe as a whole and just keep the rectangular shape of the channels and baffles, enclosing it in a tall box constructed of PVC sheets. \n",
        "\n",
        "<center>\n",
        "    <img src=\"https://raw.githubusercontent.com/AguaClara/PF200/master/Spring%202021/Images/Flocculatorita%20Top.png\" height=300>\n",
        "\n",
        "Figure 2. Top view of Spring 2021 proposed flocculator design.\n",
        "  </center>\n",
        "\n",
        "<center>\n",
        "    <img src=\"https://raw.githubusercontent.com/AguaClara/PF200/master/Spring%202021/Images/Flocculatorita%20Side.png\" height=400>\n",
        "\n",
        "Figure 3. Side view of Spring 2021 proposed flocculator design.\n",
        "  </center>\n"
      ]
    },
    {
      "cell_type": "markdown",
      "metadata": {
        "id": "QbOeP4KiC7p2"
      },
      "source": [
        "## Future Work\n",
        "Currently, we are designing the components of a flocculator for the PF200 plant. Our goals for the near future are to finish the design and fabrication of the flocculator. To complete this goal we will need to purchase PVC sheets and other materials which are utilized in the construction of the flocculator. With fabrication finished we will then move on to testing the flocculator and identifying any failure points in the design.\n",
        "Once the improvements to the existing flocculator have been made, our subteam will move on to redesigning the other processes of the PF200 plant. This includes the redesign of the current filter and sedimentation tank. This is a lower priority, however, as the filter was already worked on in the past and the flocculator is easier to redesign by our subteam than the sedimentation tank. Work for the other components will be done further in the future. \n"
      ]
    },
    {
      "cell_type": "markdown",
      "metadata": {
        "id": "fZyCYDraC80B"
      },
      "source": [
        "## Bibliography\n",
        "\n",
        "1. Blahut, N., Falk, L., Sawczuk, M., &amp; Bitzyspider, Y. (2019). (rep.). Flocculatorita. Ithaca, NY: AguaClara. \n"
      ]
    }
  ]
}