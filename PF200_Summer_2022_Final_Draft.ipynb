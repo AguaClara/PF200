{
  "nbformat": 4,
  "nbformat_minor": 0,
  "metadata": {
    "colab": {
      "name": "PF200 Summer 2022 Final Draft",
      "provenance": [],
      "collapsed_sections": [],
      "include_colab_link": true
    },
    "kernelspec": {
      "name": "python3",
      "display_name": "Python 3"
    }
  },
  "cells": [
    {
      "cell_type": "markdown",
      "metadata": {
        "id": "view-in-github",
        "colab_type": "text"
      },
      "source": [
        "<a href=\"https://colab.research.google.com/github/AguaClara/PF200/blob/master/PF200_Summer_2022_Final_Draft.ipynb\" target=\"_parent\"><img src=\"https://colab.research.google.com/assets/colab-badge.svg\" alt=\"Open In Colab\"/></a>"
      ]
    },
    {
      "cell_type": "markdown",
      "metadata": {
        "id": "awle31N5ykbr"
      },
      "source": [
        "# PF200 Summer 2022\n",
        "#### Sarah Bae, Izzy Crovella\n",
        "#### 8/4/2022\n"
      ]
    },
    {
      "cell_type": "markdown",
      "metadata": {
        "id": "lGzNCdLa1f38"
      },
      "source": [
        "##Abstract\n",
        "The goal of the PF200 Summer 2022 subteam was to ensure that the PF200 plantita model will work more efficiently in Honduras and able to be implemented successfully in Puerto Rico. The team focused on two main aspects in order to create a more efficient system: troubleshooting the current PF200 pilot plant, as well as testing influent and effluent water for E. coli and human fecal matter. To troubleshoot, the team ran the plant for a few hours at a time and identified problems with the turbidimeters and their calibrations, as well as the automation of coagulant dosing. The team also collected multiple raw and filtered water samples to test for the presence of E. coli and total coliforms. The presence of E. coli and total coliforms were tested through IDEXX tests and CBTs (Compartment Bag Tests). Human fecal matter was planned to be tested with qPCR tests but due to time constraints, only membrane filtrations were taken. Further data needs to be collected for automated dosing and E. coli for significant and reliable results; however, preliminary results show a general trend of decrease in E. coli and TC levels between raw and filtered water samples.\n"
      ]
    },
    {
      "cell_type": "markdown",
      "metadata": {
        "id": "TpShT1NO1jsq"
      },
      "source": [
        "## Introduction\n",
        "\n",
        "This summer, the team focused on collecting data to test this model to identify further problems that should be solved, such as organic contaminants in the water. In addition to this, the team also sampled the influent and effluent waters of PF200 to test for E. coli at the Richardson lab. Past teams have focused on improving the design of PF200. \n",
        "\n",
        "PF200 was designed as an economically viable option for communities that lack resources for a full water treatment facility. It is an improved model of PF300 and is intended to provide water for a small, rural community of 200 people. It is easier to fabricate, ship, and repair due to its small size and cheaper components. \n",
        "\n",
        "PF200 is composed of a flocculator, clarifier, and filter. The flocculator efficiently mixes coagulant with raw water to create flocs of particles. This mix then goes into the clarifier which settles the flocs using both a floc filter and settling plates. The settled water then goes into the filter.\n",
        "\n",
        "Four turbidimeters are used to detect the turbidity of the water at four different stages: when raw water first enters the plant, after the water has been flocculated, after the water has settled, and after the water is completely filtered. A UV254 meter was previously used to detect organic matter within the water by shining ultraviolet light through a water sample; however, due to damages on the UV254 circuit board, it could not be used for this summer’s data collection. Instead, the team used an alternative method to check for organic contaminants within the water. The team used IDEXX tests and CBTs to test for E. coli and total coliforms. Coliforms in drinking water can be dangerous to people's health, especially E. coli to digestive health. The team also performed membrane filtrations to test for human fecal matter using DNA tools such as qPCR. Due to time constraints, only the filtrations were performed by the summer team. \n",
        "\n",
        "LabVIEW is used for automatic dosing of the coagulant. While troubleshooting the plant, the team noticed frequent, large changes in the coagulant dosing, even when the influent turbidites had very small changes. It seemed that LabVIEW was reacting extremely to very small changes. This code was improved by Monroe. "
      ]
    },
    {
      "cell_type": "markdown",
      "metadata": {
        "id": "4gfgHIlZ2Evd"
      },
      "source": [
        "## Literature Review and Previous Work\n",
        "Foster, S. (Spring 2022). *Cornell University Honors Research Report: Puerto Rico Project.*\n",
        "\n",
        "A relevant source used is Susie Foster’s Honors Research Report concerning the Puerto Rico Project with research done in the Richardson Lab. The methodology used was the same methodology used to find the data in this report for E. coli and total coliform numbers. One of the conclusions Foster came to was that CBT and IDEXX tests were good alternatives for determining coliform levels in places with unreliable access to electricity. The work the team did was directly related to this, as team members used the same method as Foster in order to conduct the E. coli and total coliform tests in order to gather data that would be relevant to the same Puerto Rico project. \n",
        "\n",
        "Yang, B., & Feng, H. (Spring 2022). *Automatic Control of Sustainable an​d Resilient Water Treatment System “Plantita” in Puerto Rico.*\n",
        "\n",
        "Important work needed to understand this report is the work done by Bichen Yang and Huanjie Feng during Spring 2022. The two individuals worked on creating an automatic control for PF200 using ProCoDa and LabVIEW. This automatic control system was created to better understand the performance of Plantita. There are four main functions in this automatic control system: real-time data monitoring, flow controlling, coagulant dose controlling, and backwash controlling. The front panel of LabVIEW shows a graph of the four turbidities, sludge flow rate, main water flow rate (influent raw water), amount of coagulant dosing, real-time filter head loss, UV254 data, and voltage data that controls the sludge valve and main valve. The main flow, coagulant dose, and backwash was controlled through LabVIEW. Bichen and Huanjie assisted Monroe to create a better system this summer.\n",
        "\n",
        "*Previous Subteam Work:* \n",
        "\n",
        "Cullings, I., Rosenburg, Y., Sawczuk, M., & Sarmiento, K. (Summer 2019). *Prefabricated Pilot Plant: PF300 Summer 2019 Final Report.* \n",
        "\n",
        "This subteam worked mainly on collecting data on flocculation and how to make it most efficient, as well as finding general issues with the plantita system. This work relates to the work the PF200 team did this summer because of the basis it provided for understanding the necessity of the plantita in these communities as well as the long-term goals possible for the plantita. \n",
        "\n",
        "Denison, W., Zeng, A., Cangelosi, S. (Spring 2020). *PF200 Spring 2020 Final Report.* \n",
        "\n",
        "This subteam worked on redesigning the entire plantita with a specific focus on the filter, for the purpose of changing the goal of the plantita to be able to have a water supply for a 200 instead of 300 person community. This work relates to the work the team did this summer because of the issues the current design has with the filter and how team members are seeking to improve the filter design. \n",
        "\n",
        "Cangelosi, S., Lake, S., Louie, M., Shin, L. (Summer 2021). *PF200 Summer 2021 Final Report.*\n",
        "\n",
        "This subteam worked mainly on redesigning the flocculator and making the flocculation process more efficient and effective. This work relates to the work team members did this summer because it allowed us to have more context on how the system could be improved. \n"
      ]
    },
    {
      "cell_type": "markdown",
      "metadata": {
        "id": "a7POfNmj2Gr7"
      },
      "source": [
        "##Experimental Procedures/Methods\n",
        "### Turbidimeters\n",
        "\n",
        "The first step the team took this summer is replacing and calibrating the MicroTOL turbidimeters. While running the plant, the team noticed some flaws in the turbidimeters such as condensation build up inside the display screen. After a leak damaged some of the circuit boards, the turbidimeters were replaced. \n",
        "\n",
        "After replacing the turbidimeters, the team identified issues with the calibration. The turbidity displayed on the turbidimeters did not match the values that were displayed on the LabVIEW screen. These values would also vary a lot, and the measured voltages would read negative for some of the turbidimeters.\n",
        "\n",
        "In addition, the turbidimeters that range from 0-1000 NTU were adjusted. An NTU is a Nephelometric Turbidity Unit, used to be able to compare turbidities relative to one another. Turbidimeter 21 is used to detect turbidity in raw water, which ranges typically between 3 NTU and 20 NTU but can read significantly higher depending on high turbidity events such as excessive rain or flooding. Turbidimeter 21 needed to be able to read higher NTUs, as opposed to the clarified and filtered water readings which needed to be more precise near 0 NTU, so the team had to set the scale within the turbidimeter settings differently. The goal for settled water is to read under 1 NTU, and the goal for filtered water is to read about 0.3 NTU, which is typically met. To adjust the turbidimeter settings to be more precise near 0 NTU, the team set a lower extreme value of 0 NTU to 4 mA and a higher extreme value of 100 NTU to 20 mA for turbidimeters 23 and 24. \n",
        "\n",
        "To fully calibrate the turbidimeters, team members used standards first to ensure that the turbidimeters were reading the correct values, then plotted a graph with the incoming voltages as well as what the NTU readings were in LabVIEW. This allowed the team to find individual equations for each turbidimeter to convert from voltage to NTU, and to have more accurate values from each meter. The current turbidimeter setup is shown in Figure 1 below. \n",
        "\n",
        "###LabVIEW\n",
        "\n",
        "The PF200 team also identified a few problems with the LabVIEW code. The automated coagulant dosing was not ideal as values were jumping around frequently, and readings were not consistent or accurate despite having filters smoothing the data. The PF200 team aided Monroe in figuring out issues with how LabVIEW was set up, and Monroe cleaned up the previous setup so that it was simpler and easier to work with. This included updating the LabVIEW controls to two screens, including a Graphs Display and a Controls Display shown in Figures 2 and 3 respectively. \n",
        "\n",
        "<img src=\"https://docs.google.com/drawings/d/e/2PACX-1vQwttfJlVjuKA7slevJrHk9Qe_c-l4U4I2KjlTRXdKGZKs2B9Ehh6aT1lpfAV5iQFv9xS96oKbbjaBx/pub?w=630&amp;h=704\" width=1000>\n",
        "Figure 1. Image in Top Center: Current LabVIEW and laboratory setup; Figure 2. Image on Bottom Left: Updated LabVIEW Graphs Display; Figure 3. Image on Bottom Right: Updated LabVIEW Controls Display\n",
        "\n",
        "Monroe also changed the setup so that the coagulant dosing would be automated, including feedback from the system. There were a few issues with this by the end of the summer, including the coagulant dosing overreacting to changes in NTU as a result of the organic matter levels in the water not being taken into account. \n",
        "\n",
        "In order to gather data for the initial data values needed for feedback, a team member asked the Cornell Water Filtration Plant operator how much coagulant they were dosing, and converted it into plantita levels/volume by multiplying by 0.17. The value of 0.17 was found by comparing flow rates and coagulant pump rpms as well as converting from ppm to flow rate. This value was adjusted after about half an hour of running the plant based on how far away the filtered water turbidity was from the target turbidity of ~0.3 NTU. \n",
        "\n",
        "###Testing Water\n",
        "The further step to ensure the performance of PF200 and quality of effluent water coming out of the plant is to test the water for organic contaminants. The team tested the water for E. coli and human fecal matter. \n",
        "\n",
        "The team collected samples of raw and filtered water from the plant. The raw water was collected from a raw water tap used by the Cornell Water Filtration Plant. The filtered water was collected from detaching the tubing that connects to turbidimeter 24. The water samples were collected in sterile bottles that had been autoclaved. These samples were brought to Hollister - to be tested. \n",
        "\n",
        "###E.coli and Total Coliforms\n",
        "\n",
        "To test for E.coli, IDEXX and CBT tests were used. IDEXX and CBT tests are useful for areas that have inconsistent access to electricity. \n",
        "\n",
        "<img src=\"https://docs.google.com/drawings/d/e/2PACX-1vQOE_lHLSuvfTQmanB84fjiZdp5u4M3tvYauSJt4HVkgKws6RU2bJMceF6B70CJ-mpfIx8PgIX5aEoi/pub?w=960&amp;h=720\" width=1000>\n",
        "Figure 4. Image on Left: IDEXX Tests and CBTs under Visible Light; Figure 5. Image on Top Right: IDEXX Test under UV Light; Figure 6. Image on Bottom Right: CBT under UV Light\n",
        "\n",
        "####IDEXX tests\n",
        "\n",
        "1. Gently mix sampled water.\n",
        "2. Pour 100mL of sampled water into a sterile Whirl-Pak bag. \n",
        "3. Add colilert into the Whirl-Pak bag. \n",
        "4. Close and lightly shake until colilert dissolves completely.\n",
        "5. Label then open IDEXX and pour water in. Gently tap out air bubbles.\n",
        "6. Turn IDEXX sealer on and wait until the light turns green.\n",
        "7. Place IDEXX into mold and spread out water so that it gets into every well.\n",
        "8. Push into the machine.\n",
        "9. Incubate for 24 hours. \n",
        "\n",
        "To test for E. coli, place incubated IDEXX under UV light as seen in Figure 5. Separately count the number of large and small wells that have a fluorescent glow. Wells that glow are positive. Use the IDEXX MPN chart to find the most probable number of E. coli per 100mL. To test for total coliforms, place incubated IDEXX under visible light as seen in Figure 4. Separately count the number of wells that are dark yellow. Wells that are dark yellow are positive. Use the IDEXX MPN chart to find the most probable number of total coliforms per 100mL.\n",
        "\n",
        "####CBTs (Compartment Bag Tests)\n",
        "\n",
        "1. Gently mix sampled water. \n",
        "2. Pour 100 mL of sampled water into a sterile Whirl-Pak bag. \n",
        "3. Add AquaGenX into the Whirl-Pak bag. \n",
        "4. Close and lightly shake until AquaGenX dissolves completely. \n",
        "5. Label then open CBT, massage each compartment to allow sample to enter each of the five compartments.\n",
        "6. Pour entire sample in, distribute water so water level in each compartment is about the same. \n",
        "7. Close CBT by spinning and sealing with either built-in safety or long clip. \n",
        "8. Incubate for 24 hours.\n",
        "\n",
        "To test for E. coli, place incubated CBT under visible light as seen in Figure 4. Record each of the different volume compartments as positive if it has a blue coloring or negative if it has a yellow coloring. Use the CBT MPN chart to find the most probably number of E. coli per 100mL. To test for total coliforms, place incubated CBT under UV light as seen in Figure 6. Record each of the different volume compartments as positive if they have a fluorescent glow or negative if they have no fluorescent glow. If the visible light blue compartments seem dull in their fluorescence, they are still positive. \n",
        "\n",
        "####Human Fecal Matter: qPCR Filtration Membrane tests\n",
        "To test for human fecal matter, the team expected to use the qPCR method. qPCR is a relatively inexpensive testing method. Team members used filtration to concentrate cells from samples on filter membranes in order to test these membranes for DNA at a later time. \n",
        "1. Put on gloves and sterlize the workspace.\n",
        "2. Turn on bunsen burner and sterilize tip of tweezers until they glow red, spray iso alcohol to cool the tweezers. \n",
        "3. Unravel filtration cup from aluminum foil. Be careful to not touch the bottom of each part. \n",
        "4. Place the bottom into the vacuum tube.\n",
        "5. Carefully pull a membrane out and place flat on middle of filtration plate. \n",
        "6. Place the top over the membrane, clamp if necessary. \n",
        "7. Invert water sample to mix. \n",
        "8. Pour the water sample into the filtration cup until it surpasses the 100 mL line. More than 100 mL is better than less; go over if unsure. \n",
        "9. Turn on vaccuum until all water has passed through membrane.\n",
        "10. Remove top, then fold membrane in half.\n",
        "11. Remove membrane and place it in a 100 mL Whirl-Pak bag. Label and freeze/store until ready to perform qPCR test.\n",
        "\n",
        "The team stored the membranes in the freezer for later use. Due to time constraints, the team was not able to conduct further experiments to extract DNA from filtered material.\n",
        "\n",
        "###Troubleshooting\n",
        "\n",
        "The team ran PF200 to gather data on its performance. As seen above in Figure 1, the important components of the plantita were monitored to maintain a good filtered turbidity. The team monitored coagulant dosing, how quickly readings would stabilize, NTU values for raw, clarified, and filtered water at the stable levels, as well as system malfunctions. With anything abnormal, members of the team attempted to solve this issue. Common issues included the NTU reading on LabVIEW for a turbidimeter not matching the turbidimeter display. In this case, the turbidimeter voltage conversion was recalibrated so that the readings would be more similar. This was done by inserting two of the following calibration standards, of 0.02 NTU, 10 NTU, 100 NTU, and/or 1000 NTU, reading the turbidimeter display once the number had stabilized, and recording the value shown for the voltage shown in LabVIEW. The two data points found were used to plot a line with a slope and intercept that were then input into the conversion calculator in LabVIEW for each turbidimeter. \n",
        "\n",
        "<img src=\"https://docs.google.com/drawings/d/e/2PACX-1vSzQZ2FNPoeJgGqg2JGlDhQb34LzHJ0zXsk9FHILSHbMldh3p31QiwY051NzmN3b8r5QHHaTcKOBpvO/pub?w=961&amp;h=362\" width=1000>\n",
        "Figure 7. General Plantita Diagram"
      ]
    },
    {
      "cell_type": "markdown",
      "metadata": {
        "id": "_Nn9zXKc-Fjq"
      },
      "source": [
        "## Results and Analysis\n",
        "\n",
        "###Data Gathered from the Plantita Turbidimeter Water Sampling Lines\n",
        "\n",
        "As seen in Figures 8 and 9, stable runs of the plantita over longer periods of time, there is a large decrease from raw to settled turbidities, and a smaller decrease from settled to filtered turbidities. Over longer running periods, filtered and settled readings stay relatively constant. The spikes near 10:40 and 11:20 AM in Figure 8 as well as 11:40 AM in Figure 7 come from the sample collecting in which the sampling lines were opened and air went into the turbidimeters. Besides these spikes, the readings remained consistent and low, around 0.7 NTU for clarified water and around 0.3 NTU for filtered water. This consistency is a good sign considering that the raw water turbidity varied greatly with the coagulant dosage only varying from 4-7 mg/L.\n",
        "\n",
        "<img src=\"https://docs.google.com/drawings/d/e/2PACX-1vREBeBnjBNdLVQp5zgODjrHJdgp3CAXhIA20kTV9bjEYqP6pk0HM4pdAfaIAU_qP2GkZ3Njdid-Tlmx/pub?w=961&amp;h=607\" width=1000>\n",
        "Figure 8. Graph of Plantita Turbidities Over Time on 7/27\n",
        "\n",
        "<img src=\"https://docs.google.com/drawings/d/e/2PACX-1vTTHzAg6c6Oinz_OuFaD7pyrsZk1qOkFre_qfDk_fDmsoslYvcsYYkAUCQxFrRU59X0mYTaAvtucbTG/pub?w=961&amp;h=608\" width=1000>\n",
        "Figure 9. Graph of Plantita Turbidities Over Time on 7/26\n",
        "\n",
        "###CBT and IDEXX Tests and Data Collected from those Tests\n",
        "\n",
        "Two samples of both raw and filtered water were taken each day at two different times. MPN stands for most probable number and indicates the most likely number of E. coli or total coliforms using the amount of compartments or wells that were positive under UV or visible light. Some of the numbers that are not exact, such as >100 shows that the most probable number is above 100 but cannot indicate what number it is exactly. As shown, there is a general trend that can be seen in the values in Table 1. The numbers shown for the filtered samples are lower than the ones for raw water. This trend was graphed in figure 10. It shows the relationship between NTU and E. coli measured by CBTs. \n",
        "\n",
        "The raw water samples yielded relatively higher values of both E. coli and total coliforms than the filtered water samples. Total coliform levels in both samples, however, are consistently high. E. coli levels are relatively lower than TC levels, which corroborates the fact that E. coli are a subset of coliforms. This corroboration allows us to have more trust in the obtained results. There is a general trend of decrease in MPNs when comparing raw to filtered water samples for both E. coli tests and the IDEXX total coliform tests; however, because the CBT tests are limited by a 100 count per 100mL, comparisons between raw and filtered water samples for this test specifically are inconclusive. This conclusion with the other tests corroborates the relationship between turbidity and coliforms.\n",
        "\n",
        "<img src=\"https://docs.google.com/drawings/d/e/2PACX-1vTOaKLMjnAXSr3tIw0lgK0WPVUO3bF0Zeq0V4YmST9L6qIHa-CW6HlXV6b-aXEMUZJJ5CMyG1wBvQvv/pub?w=961&amp;h=588\" width=1000>\n",
        "Table 1. MPN Data Gathered from IDEXX Tests and CBTs\n",
        "\n",
        "<img src=\"https://docs.google.com/drawings/d/e/2PACX-1vQQGpts5TGlguxlf9eefGu_w3TFZrKBLdnb8afwSITadnavhGFkZmvIYlQIPfVHUTgmw9bvAZdwhXmX/pub?w=471&amp;h=309\" width=1000>\n",
        "Figure 10. Graph of Relationship Between NTU and E. coli Measured by CBTs\n",
        "\n",
        "pC* values, which show the log differences between initial and final values, were used to show the magnitude of decrease between the raw and filtered water turbidities as well as the corresponding Most Probable Number values for E. coli using Compartment Bag Tests. As can be seen in Table 2, the pC* value during high turbidity events as were seen on 7/25 and 7/26 yielded higher pc* values for both turbidity and E. coli MPNs. This data also shows that when the initial raw water turbidity is high, on these days around 25-30 NTU, the inital E. coli levels are high and when there is a more significant decrease in this raw water turbidity, there is also a more significant decrease in E. coli levels relative to typical days where turbidity reads around 5-10 NTU. This is shown in the graph when the relatively higher pC* values for NTU correspond to relatively higher pC* values for E. coli MPNs. \n",
        "\n",
        "<img src=\"https://docs.google.com/drawings/d/e/2PACX-1vSsTKvIyg-E6NXz9Xk-OIX_3vkTbvgpws5A0heseq41eQ26O02KW8Rbv6RfFhgIqM8ua6aEOko_o5sB/pub?w=345&amp;h=350\" width=1000>\n",
        "Table 2. pC* Table Comparing log Differences in NTU and MPN values"
      ]
    },
    {
      "cell_type": "markdown",
      "metadata": {
        "id": "Me12TWjY-Iys"
      },
      "source": [
        "## Conclusions\n",
        "The PF200 team has learned that there is a positive linear relationship between NTU and coliform levels, meaning that the lower the effluent turbidity that the plantita can achieve, the safer the water will be to drink prior to chlorination and the less chlorine that will need to be added to the water supply. The team also learned that automated coagulant dosing with feedback can potentially be used to greatly benefit how water filtration plants operate; however this code still needs debugging. This matters greatly to AguaClara for how the PF200 subteam will proceed from here. Knowing these conclusions, further research can be done comparing turbidity to coliforms as well as troubleshooting the plantita with more information. "
      ]
    },
    {
      "cell_type": "markdown",
      "metadata": {
        "id": "uQBlaQNP-VJA"
      },
      "source": [
        "## Future Work\n",
        "\n",
        "The main goal is to set up PF200’s model in Puerto Rico. For this goal, there are many factors that the PF200 team needs to take into consideration, including variations between environmental factors from the Cornell Water Filtration Plant water source, Fall Creek, to theirs. The difference in turbidity of water, especially in terms of the possibility of flooding, is an important factor. Doing E.Coli testing at the PF200 plant will also need planning as to how it would best be implemented into the entire process. \n",
        "\n",
        "One area of future work would be the improvement of PF200’s design. Although the plant is performing well, the team was able to identify potential issues. One would be to replace the filter. The effluent water occasionally had small specs which could indicate a fault in the filter. Another area of future work would be to replace the backwash; when opening and closing the backwash safety valve, there seems to be either sand or other material making sounds preventing the backwash from potentially working as well as it could. Another area of future work could be to ensure that the sludge in the clarifier is not extremely compacted. This can be done by measuring the height of the floc blanket and monitoring the flow of the sludge out of the sedimentation tank. \n",
        "\n",
        "In the future, PF200 should aim to give a purpose to turbidimeter 22, which currently shows the turbidity of flocculated water. Turbidimeter 22 does not have any significant function currently, as the flocculated turbidity is not very helpful data to the project, and in the future it can be set up to estimate how certain coagulant dosages will affect the settled turbidity on a smaller, therefore faster, scale. This reading can be used to preemptively adjust the dosage to increase the effectiveness of the plantita. \n",
        "\n",
        "Another area of future work would be to improve the automation of coagulant dosing. The current automated coagulant dosing has faults as it cannot detect the amount it needs for organic matter and is influenced by this factor which causes it to overcompensate when it changes the coagulant dosing. \n",
        "\n",
        "By continuing the testing of the water for E. coli and fecal contaminants using Compartment Bag Tests, IDEXX Tests, and DNA analysis in Professor Richardson’s laboratory in Hollister, in the future this research and data can be used to see how to best place it within the context of the plantita. To reach a significant conclusion, more data needs to be collected. "
      ]
    },
    {
      "cell_type": "markdown",
      "metadata": {
        "id": "ZXUik5SH-YFM"
      },
      "source": [
        "## Bibliography\n",
        "Cangelosi, S., Lake, S., Louie, M., Shin, L. (Summer 2021). *PF200 Summer 2021 Final Report.*\n",
        "\n",
        "Cullings, I., Rosenburg, Y., Sawczuk, M., & Sarmiento, K. (Summer 2019). *Prefabricated Pilot Plant: PF300 Summer 2019 Final Report.* \n",
        "\n",
        "Denison, W., Zeng, A., Cangelosi, S. (Spring 2020). *PF200 Spring 2020 Final Report.* \n",
        "\n",
        "Foster, S. (Spring 2022). *Cornell University Honors Research Report: Puerto Rico Project.*\n",
        "\n",
        "Yang, B., & Feng, H. (Spring 2022). *Automatic Control of Sustainable an​d Resilient Water Treatment System “Plantita” in Puerto Rico.*"
      ]
    },
    {
      "cell_type": "markdown",
      "metadata": {
        "id": "EvBA8kN4-dty"
      },
      "source": [
        "# Manual\n",
        "The Plantita Manual which was significantly updated by the Summer 2022 PF200 subteam is linked below:\n",
        "https://docs.google.com/document/d/1G7xgnXV5utQmHYHeZBNCEscr9GKG1udp/edit\n",
        "\n",
        "The procedures for starting up the plantita and shutting down the plantita include the following: \n",
        "\n",
        "####*STARTUP:*\n",
        "\n",
        "Plantita is currently operating using water from Fall Creek, and operator determined coagulant dosing. Startup procedure is pretty simple:\n",
        "1. Turn on the power\n",
        "2. Turn the software on\n",
        "3. Turn the pumps on and open the valves\n",
        "4. Set the correct settings\n",
        "\n",
        "*To turn on the power*, turn on the power strip switch which is found on the 80/20 vertically to the left of the turbidimeters. Turn on the computer case if it doesn’t turn on automatically, which has a power button on it. Finally, turn on the computer, and log in with the following credentials: \n",
        "\n",
        "$$username: EN-CE-AC$$\n",
        "\n",
        "$$password: 1L/sofSWOT$$\n",
        "\n",
        "*To turn on the software,* simply open the Pilot Plant Clean file on the desktop. Scroll down to find and open “Pilot Plant Project” (should have a few dozen KBs). Open the plantita.vi file, the first file available. Click on the white arrow in the top control bar and the software should start.\n",
        "\n",
        "*To turn on the pumps and valves,* for coagulant (switch in the back), sampling (switch and start/stop button on the front panel), and the main pump (switch near the windows across the room). Change the socket switch from “off” to “auto”. Make sure there is no mat blocking flow (near the main pump switch). Ensure that all sampling tube valves are open at their origins (valve switch should be parallel to the tube). Open the backwash safety valve by turning the red handle counterclockwise until it doesn’t turn anymore. \n",
        "\n",
        "*To set the correct settings,* ask the CWFP plant operator what the current coagulant dosage is at. The number they give you will be in ppm, so you will need to convert to mg/L by multiplying by 0.17. This number, found by comparing flow rates and coagulant pump rpms as well as converting from ppm to flow rate, should be at least 2.5 mg/L, most likely around 4-6 mg/L. In the LabVIEW Controls display, make sure the “Coagulant mode” setting reads “manual” and input the number you found into the “Coag dose [mg/L]” setting below it. The target clarified turbidity should be set to 0.7 NTU and the filtered quality target should be set to 0.3 NTU if not already. It is up to the operator’s discretion to alter these values based on the performance of the plantita. After about 1.5 HRTs go by as can be seen on the Controls display, the “Coagulant mode” setting should automatically switch to either “linear regression” or “simple corrector”. This means that automated coagulant dosing has begun using system feedback. According to what the operator prefers, either turn on automatic backwash or monitor head loss on the graphs and when it reaches a certain level, turn on the backwash for approximately 10 minutes. \n",
        "\n",
        "*Extra Info for Startup:* Socket with a safety interlock is used to ensure that the plant does not flood. Make sure that you use the “auto” setting on the power socket used for the main pump! This allows for the moisture detector to operate. If the floor gets flooded and the water gets to the filters, the moisture detector cord will trip the power supply and effectively switch off the pump, protecting filters from contamination. If the pump doesn’t turn on after switching the socket to “Auto”, please inform the operator and let Marcin know. \n",
        "\n",
        "####*SHUTDOWN:*\n",
        "To shut the system down, reverse the procedure:\n",
        "1. Click “Shut Down”\n",
        "2. Turn off the main pump (switch to “off” position), coagulant pump, and sampling pump\n",
        "3. Close the backwash safety valve\n",
        "4. Shut down computer, turn off power strip switch\n",
        "\n",
        "*Extra Info for Shutdown:* The new data log file will be under Files → This PC → Documents → Pilot Plant Data folder under the current date of operation. \n",
        "\n",
        "####*MAINTENANCE:*\n",
        "\n",
        "A few things have to be done in order to ensure correct operation. Those include:\n",
        "1. Maintaining the coagulant level\n",
        "2. Controlling wear of the pump tubing\n",
        "3. Cleaning and maintaining dryness of the turbidimeters\n",
        "\n",
        "*Topping-up coagulant tank:* Make sure that you do this when the system is not running or when you use an alternative container (beaker, etc.) as a source of coagulant while you are topping-up the jug. Inform the operator that you are taking some coagulant! They are controlling coagulant inventory on a daily basis, so they have to know that the PF200 project is taking some. Unscrew the lid, transfer the tube to another container, move the jug over to the coagulant tank. Open two valves, fill up the jug, close both valves. Move the jug back to the work bench, place the tube inside the jug (should be reasonably straight and not coiled up inside the jug), screw the lid on loosely, otherwise air cannot enter and we’ll be creating a vacuum.\n",
        "\n",
        "*To control the condition of the pump tubing,* simply open each pump head by lifting the lever and look for cracks and wear. Spare tubing can be found in the cabinet, and if the tubing runs out, please let Marcin know. Replacement is as simple as cutting a length of new tubing and threading it onto the barbed fittings. Please, make sure that you use the same tubing size (size is a number written on the tube – 13, 17, etc.). Pump are calibrated for specific sizes, so it is vital to keep them unchanged. Make sure that the tubing is in the correct position when you close the pump head – it should be secured by the two notches and only rest on the rollers (kept away from the plate’s steel plates, which can cut it).\n",
        "\n",
        "*Turbidimeter maintenance* is limited to periodically cleaning the cuvettes and keeping the desiccant dry. Turbidimeter displays “CLN” communicate when it detects dirty vial, but it is a good practice to clean them every few days even if that doesn’t happen. Sampling line should be isolated by closing a valve before cleaning. Then the cuvette can be unscrewed and washed using a lab detergent (large bottle with a pump dispenser by the sink at CWFPs lab) and a brush. It should be then dried with a towel (make sure that you don’t leave finger marks on it!) and put back in the meter. Remember to re-open the sampling line valve! Turbidimeter displays “DESC” when it detects desiccant failure, but maintenance of the desiccant is better than waiting for this failure. For maintaining the desiccant, disconnect the turbidimeter from the grid and remove four thumb screws around the turbidimeter body (note – the main body, not the rectangular control box). Desiccant pouch can be accessed by simply lifting the top of the turbidimeter body. Remove the pouch and put it in the oven at 240 F overnight. After that, let the oven cool down and move desiccant pouches to a sealed container (Ziploc bag, Tupperware…) to make sure that they don’t take up moisture from the air. Put them back in the turbidimeters and reassemble them."
      ]
    }
  ]
}