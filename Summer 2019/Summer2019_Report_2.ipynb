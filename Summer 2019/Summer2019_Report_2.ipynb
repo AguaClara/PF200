{
  "nbformat": 4,
  "nbformat_minor": 0,
  "metadata": {
    "colab": {
      "name": "Summer2019_Report_1.ipynb",
      "version": "0.3.2",
      "provenance": [],
      "collapsed_sections": [],
      "include_colab_link": true
    },
    "kernelspec": {
      "name": "python3",
      "display_name": "Python 3"
    }
  },
  "cells": [
    {
      "cell_type": "markdown",
      "metadata": {
        "id": "view-in-github",
        "colab_type": "text"
      },
      "source": [
        "<a href=\"https://colab.research.google.com/github/AguaClara/Prefabricated-Pilot-Plant/blob/master/Summer2019_Report_2.ipynb\" target=\"_parent\"><img src=\"https://colab.research.google.com/assets/colab-badge.svg\" alt=\"Open In Colab\"/></a>"
      ]
    },
    {
      "cell_type": "markdown",
      "metadata": {
        "id": "awle31N5ykbr",
        "colab_type": "text"
      },
      "source": [
        "# Prefabricated Pilot Plant, Summer 2019\n",
        "#### Ian Cullings, Yitzy Rosenburg, Marcin Sawczuk, Kevin Sarmiento\n",
        "#### July 3rd, 2019\n"
      ]
    },
    {
      "cell_type": "markdown",
      "metadata": {
        "id": "lGzNCdLa1f38",
        "colab_type": "text"
      },
      "source": [
        "##Abstract\n",
        "The AguaClara PF 300 is a fully functional small scale water treatment system currently utilized in Honduras.  With a smaller scale, PF 300 is ideal for smaller villages where the need is still significant, but it is not economical to build full scale built plants.  While the plant currently operates, there are significant problems in the design which need to be resolved to further improve treatment and allow for more systems to be built.  Additionally, PF 300 serves as a model for typical water treatment processes, including flocculation, sedimentation, and filtration, and thus data collected from this system can be used to study these processes and inform future design decisions.  The goal of the team this summer is twofold: collect data on flocculation, and use this information on new design projects for the system.  "
      ]
    },
    {
      "cell_type": "markdown",
      "metadata": {
        "id": "TpShT1NO1jsq",
        "colab_type": "text"
      },
      "source": [
        "## Introduction\n",
        "The AguaClara PF 300 system (previously known and the 1 LPS plant or the Plantita) is a small scale, built system which can treat water at a rate up to 0.66 L/s.  The system was designed using AguaClara's principles, and thus modeled the built water treatment plant in the key areas:\n",
        "* Gravity Powered: The entire plant is entirely powered from differences in hydraulic head from the inlet and outlet.  The design does not utilize electricity or mechanical parts, pieces that cause many problems when utilized in the field\n",
        "* Built in place: The plant does not use any moving parts, and thus is functional from installation, reducing needs for maintenance and extending the operational life\n",
        "* Utilizes hydraulic flocculators: Similar to AguaClara's built in place plants the PF300 uses a hydraulic flocculator to obtain the desired collision potentials for efficient flocculation\n",
        "* Floc Blanket technology: The sedimentation tank of the PF300 creates an effective floc blanket just like the built in place AguaClara plants\n",
        "* Stacked Rapid Sand Filters: The PF300 has a similar stacked filter design to that of built in place plants with the distinction that filter in this case is enclosed and must be under negative pressure\n",
        "\n",
        "The main objectives for the summer were:\n",
        "* Restore PF 300 to full operation and install Stacked Rapid Sand Filter\n",
        "* Install lab bench and computer and connect all sensors for data collection\n",
        "* Redesign of PF 300 components to improve operation quality and make construction easier\n"
      ]
    },
    {
      "cell_type": "markdown",
      "metadata": {
        "id": "4gfgHIlZ2Evd",
        "colab_type": "text"
      },
      "source": [
        "The first PF 300 system was designed during Spring 2016 and built during Summer 2016 by a group of students and engineers on Cornell's campus.  Future teams tested the system and worked to streamline the fabrication process, after which the first system was sent of Honduras for testing in the field.  In 2017 another system was fabricated at Cornell and tested with the full treatment process, which continued into Spring 2018.  \n",
        "\n",
        "In Fall 2018, there was no subteam specifically focused on research with the PF 300.  Instead, Meng student Zoe Maisel focused her thesis on developing the PF 300 system for usage in the United States.  Part of her project was moving the PF 300 system from the DeFrees Hydraulic Lab at Cornell to the Cornell Water Treatment Plant.  There it was connected to the typical influent line, allowing for parallel testing of both systems for comparison.  Maisel also detailed in her thesis comparing the PF 300 system with typical water treatment systems within the US [(Maisel, 2018)](https://github.com/AguaClara/Prefabricated-Pilot-Plant/blob/master/Lit_Review/Maisel-High_Rate_Processes.pdf).\n",
        "\n",
        "As part of the CEE 3520 course at Cornell, a few student groups developed design projects around the PF 300 which formed the basis for the design work this summer.  Inspiration for the plastic honeycomb piece for plate settlers came from \"TuBe Or Not TuBe: A Comparison of Alternative Plate and Tube Settler Geometries\" [(Connely et. al. 2019)](https://github.com/AguaClara/CEE3520/blob/master/Previous%20Final%20Projects/2019S/HummusHummus_Final_Report.md).  The design idea and code was sourced from the \"Flocculatorita\" project [(Blahut et. al. 2019)](https://github.com/AguaClara/CEE3520/blob/master/Previous%20Final%20Projects/2019S/Flocculatorita.md).  And the redesign of the sedimentation tank was based on work done in \"Straight singular sedimentation tank for a modular plant\" [(Guardado et. al. 2019)](https://github.com/AguaClara/CEE3520/blob/master/Previous%20Final%20Projects/2019S/LaMeraChimba_4L_per_S_sed_tank.md).  \n",
        "\n"
      ]
    },
    {
      "cell_type": "markdown",
      "metadata": {
        "id": "a7POfNmj2Gr7",
        "colab_type": "text"
      },
      "source": [
        "##Methods\n",
        "Explain the techniques you have used to acquire additional data and insights. Reserve fine detail for the Manual at the end of the report, but use this section to give an overview with enough detail for the reader to understand your Results and Analysis. Be especially careful to detail the conditions your experiments were conducted under, as this information is especially important for interpreting your results.\n",
        "\n",
        "Below, some example sections are given. Sectioning the report is meant to keep similar information together.  Continue making sections as necessary, or delete sections if you do not need them. Feel free to add subsubsections to further delineate the information. For example, under the Experimental Apparatus section below, the EStaRS team might consider having sections such as \"Filter Design\" and \"Filter Fabrication\"."
      ]
    },
    {
      "cell_type": "markdown",
      "metadata": {
        "id": "h84CNzKAjB3c",
        "colab_type": "text"
      },
      "source": [
        "# Project One: Sensors and Data Acquisition\n",
        "\n",
        "The first project for the summer is installing a number of sensors to collect data on the effluent from the PF 300.  Five sensors were installed: two Chemtrac PC6 particle sensors, one Chemtrac UV254 organics sensor, and two HF Scientific Turbidimeters.  One turbidimeter, one particle counter, and the organics sensor take samples from the effluent of the sedimentation tank (known as settled water), and the other turbidimeter and particle counter take samples from the outlet to the filter box.\n",
        "\n",
        "All five of these sensors are connected to a main computer on the lab bench through Modbus RS485.  Modbus allows connection to up to 255 different sensors, each with a differing address.  Therefore, the team was able to wire each sensor together in a \"daisy chain,\" with one single wire going into from the HydroAct through an adapter and connected directly into the computer.  \n",
        "\n",
        "Effluent quality data is logged directly with ProCoDa, a process control software developed by Dr. Weber-Shirk.  The method file for data collection is available [on Github](https://github.com/AguaClara/Prefabricated-Pilot-Plant/blob/master/Data/Method_Files/Plantita_2.pcm).  The code for this, written by Dr. Weber-Shirk, is very similar to that used in the lab to connect to the turbidimeters.  Each device is assigned an address in the network, and then each data input (for example, total particle count, or the UVA reading) is assigned a data address from that device.  ProCoDa constantly samples these and saves them into an excel datalog, which is then imported from that computer through google drive to the cloud.  [You can view the data in real time here!](https://drive.google.com/drive/folders/15Q-oahdi-_HOuTjkzV-ZeO8t-d6P-ldm?usp=sharing)\n",
        "\n",
        "This data will be used for two purposes.  The first is to further AguaClara research on floc blanket function and efficiency.  As described within the literature review, past research by graduate student Casey Garland showed that particle removal efficiency of the floc blanket was first order with respect to depth, but then eventually tapered off to a flat line with no further particle removal.  [This video](https://github.com/AguaClara/Prefabricated-Pilot-Plant/blob/master/Lit_Review/sedimentation.mp4) shows one experiment that gave this result.  This information is part of the justification for the design floc blanket height.  However, current theories in particle interactions within floc blankets suggest that smaller particles are being preferentially removed from the floc blanket, while larger particles become more easily sheared off and escape.  In an upflow system like the floc blanket, there is a stagnation point under suspended particles.  If a smaller particle follows the streamline and hits this point, it can easily collide and stick to this particle.  However, if a particle follows another streamline, the boundary layer around the particle prevents collisions.  This rapid flow around the particles also can shear larger particles off and allow them to escape.  This is shown in Figure 1 below.  \n",
        "\n",
        " **Figure 1:** The large floc is suspended in the floc blanket and has a point of stagnation that allows smaller primary particles to effectively collide if their approach is from the correct orientation, streamline on the right. However if the particle is too far off the side then a collision will not occur, left most streamline.\n",
        "\n",
        "Since turbidimeters are unable to measure turbidity from small particles well (since they reflect significantly less light than larger ones), it is possible that previous experiments did not capture this result well.  Thus, data collection on particle size distributions will provide a more accurate picture of the types of particles escaping the floc blanket.\n",
        "\n",
        "If this theory is true, it suggests that increasing the height of the floc blanket will actually be beneficial, as smaller particle removal will increase.  Since these particles are very difficult to remove, even within the filter, this result would be very positive towards increasing the treatment capability of AguaClara plants of all scales.\n",
        "\n",
        "The other important parameter to collect for this experiment is the height of the floc blanket.  Unfortunately, since the PF 300 system is not transparent, there is no way to visually inspect this.  The only directly visible measure is through the floc hopper, where flocs can be seen escaping.  This only occurs when the floc blanket begins to grow above the height of the floc hopper (the maximum height).\n",
        "\n",
        "The team considered a number of possible sensors to detect height as a function of time, including installing electrical sensors inside, taking constant measurements from the sampling ports on the side of the plant, and taking measurements by lowering a probe in from the top of the plant.  All of these possibilities were eventually scrapped, and the following methods were determined to be the most simple and effective:\n",
        "\n",
        "1. Experiments with a typical rangefinder, pictured below, show that it can read the height from the top of the floc blanket.  Thus, by continuously running a rangefinder affixed to the top of the plant, and shining the laser between the plate settler, we can measure the distance from the rangefinder to the top of the floc blanket, and using simple geometry we can convert this into the height of the floc blanket.  The current rangefinder in use works but does not connect to a computer, so measurements must be made manually.  Note that the rangefinder doesn't work if water is too turbid that the particles reflect the laser, but the team found that typically within ~30 minutes after startup turbidity lowered enough to make accurate measurements.\n",
        "\n",
        "2. When the plant begins operation after being fully drained, the floc blanket height can be assumed to be 0.  Once significant levels of flocs are observed leaving the floc hopper, the floc blanket can be assumed to have reached it's maximum height.  In between, the relationship between floc blanket height can be approximated as linear.  By measuring the time flocs begin to leave the floc hopper, the slope of this line can be determined.\n",
        "\n",
        "Research is ongoing into the best method to measure this.\n",
        "\n",
        "The second purpose for data collection is to provide water quality data over long term usage of the PF 300, which can justify the efficacy of the system, and provide direct comparison with other conventional water treatment systems like the Cornell Water Filtration Plant.  While PF 300 systems are currently only utilized in Honduras, there are lots of evidence that a similar system would be very useful in smaller communities in the United States, or other areas.  One such example is Native American reservations, which have had many issues with water quality and supply in the past.  Team members have talked with officials from the US Indian Public Health Service and are beginning to explore the need for these systems there.\n",
        "\n",
        "\n",
        "\n",
        "\n"
      ]
    },
    {
      "cell_type": "markdown",
      "metadata": {
        "id": "yfWWdK_1jNJn",
        "colab_type": "text"
      },
      "source": [
        "\n",
        "# Project Two: Filter Assembly\n",
        "\n",
        "Previous teams designed and built the Enclosed Stack Rapid Sand Filter (EStaRS Filter) and transported it to the Cornell Water Filtration Plant. This summer we worked to connect the EStaRS Filter to the PF300 and make the necessary fixes to ensure that it operates.\n",
        "\n",
        "## Assembly\n",
        "\n",
        "The first task to connecting the filter was to find a way to divert the settled water to the filters entrance tank. The sedimentation tank's effluent leaves through a 3 inch PVC pipe that then is diverted to the CWFT's rapid mix unit for treatment. This technique allows us to run our experiments with the same water that the CWFP uses and also ensures that our experiments won't compromise the CWFP's treated water quality. A tee and two ball valves were installed on the sed tank's exit line to allow the settled water to be selectively diverted either to the filter or to waste.\n",
        "In addition to that change we took the opportunity to add a flow weir to the sedimentation tank. This allowed us to raise the water level inside of the sedimentation tank and ensure that the exit launder was fully submerged at all times with about an inch of water above it.\n",
        "\n",
        "<img src=\"https://github.com/AguaClara/Prefabricated-Pilot-Plant/blob/master/Images/Report/Filter_connection.jpg?raw=true\" height = 600>\n",
        "\n",
        "**Figure 2.** The flow weir was made out of two 3 inch PVC elbows and can be seen in the top circle. The settled water flows down the main pipe and can be diverted either to the filter, to the left, or to waste, straight down.\n",
        "\n",
        "As can see in figure 2, when the ball valve in the vertical pipe is closed and the valve in the line feeding the filter is opened, settled water will go through the filter and be treated further.\n",
        "\n",
        "## Filter Entrance Tank\n",
        "\n",
        "Settled water from the sedimentation tank first arrives to the entrance tank of the filter, right most tank in figure 3.\n",
        "\n",
        "<img src=\"https://github.com/AguaClara/Prefabricated-Pilot-Plant/blob/master/Images/Report/Filter_setup.jpg?raw=true\" height = 600 >\n",
        "\n",
        "**Figure 3.** The three main compartments of the filter are the entrance tank, sand filter body, and effluent tank.\n",
        "\n",
        "Once the settled water enters the tank, the flow gets divided into four separate PVC pipes which feed the filter at four different elevations. The distribution of flow can be seen in figure 4. Additionally, the entrance tank has 16.5 cm pipe stubs on three of the four pipes leading to the filter. This allows the entrance tank to function properly during filtration and also during backwash. During filtration settled water needs to go through all of the pipes, therefore the water level in the entrance tank needs to be high enough to allow flow into the pipe stubs. However, during backwash the flow needs to go through the larger diameter pipe, labeled in red in figure 4. This pipe attaches at the lowest point in the filter tank and because of that is responsible for fluidizing all of the sand in the tank during the backwash process. The pipe stubs ensures that during backwash all of the flow goes through the bottom most pipe. This pipe also has a larger diameter than the rest to ensure that during the backwash cycle no air from the entrance can enter into the filter, which is under constant negative pressure.\n",
        "\n",
        "<img src =\"https://github.com/AguaClara/Prefabricated-Pilot-Plant/blob/master/Images/Report/Entrance_pipes.jpg?raw=true\" height = 600>\n",
        "\n",
        "**Figure 4.** The entrance pipe to the entrance tank is in blue and the rest are the 4 pipes that go into the filter at different heights.\n",
        "\n",
        "## Filter Body\n",
        "\n",
        "The filter body was assembled by a previous team but major leaks needed to be addressed before operation could begin. Additionally, a transparent PVC window was added to the top of the filter body to allow for visual inspections. This feature turned out to be critical for the team. It was easy to see what was happening inside the filter and it allowed us to spot a number of problems that otherwise would have gone unnoticed. Issues such as loss of sand and loss of pressure were observable from the viewing port.\n",
        "\n",
        "Lastly, the backwash line was constructed, installed and tested. The backwash line, as seen in figure 5, functions as a siphon when the gate valve is opened. The bottom of the siphon pipe has a U shaped bottom to ensure that no air gets into the pipe as this would break the siphon.\n",
        "\n",
        "During backwash, the suction from the siphon drives the flow from the bottom of the filter to the top which fluidizes the sand for cleaning.\n",
        "\n",
        "<img src =\"https://github.com/AguaClara/Prefabricated-Pilot-Plant/blob/master/Images/Report/Filter_backwash.jpg?raw=true\"  height = 600>\n",
        "\n",
        "**Figure 5.** Filter siphon pipe is shown with the blue arrow. Gate valve at the bottom controls the backwash cycle.\n",
        "\n",
        "## Exit Tank\n",
        "\n",
        "After water goes through the filter it goes to the exit tank and finally goes to the waste line. Similar to the entrance tank, the exit pipes are located at varying heights on the filter. The exits ports are placed in between the inlet ports and this effectively functions as 6 stacked filters. \n",
        "\n",
        "<img src =\"https://github.com/AguaClara/Prefabricated-Pilot-Plant/blob/master/Images/Report/Exit_tank.jpg?raw=true\" height = 600>\n",
        "\n",
        "**Figure 6.** The four exit pipes from the filter go into the exit pipe and then go to the waste line in this EStaRS Filter.  \n",
        "\n"
      ]
    },
    {
      "cell_type": "markdown",
      "metadata": {
        "id": "so9f74CtjSGN",
        "colab_type": "text"
      },
      "source": [
        "\n",
        "# Project Three: System Redesigns\n",
        "\n",
        "## Flocculator\n",
        "\n",
        "## Sedimentation tank\n",
        "\n",
        "## Filter\n",
        "\n",
        "This summer was the first time a EStars filter had ever been fully assembled and tested in a treatment process.  As with any complicated system, there were numerous problems that come up, and further design and testing is needed before this system can be implemented in the field.  The major problem identified with this system was the escape of sand through influent and influent pipes.\n",
        "\n",
        "Escape of sand through the influent pipes was observed many times during operation, often due to errors in running the system.  The filter is designed such that sand should never escape the inner tank, as the upflow velocity should be too low to lift the particles all the way out the siphon system.  The following processes showed loss of sand (either through the siphon to effluent, or into the influent pipes):\n",
        "\n",
        "* Running backwash without first opening the effluent line.  Backwash is a very fine balance of pressures, and if one side is over or underpressurized it will not work properly.  Thus it is very important that whenever backwash is run the effluent line is open throughout the entire process.\n",
        "* Closing the backwash value quickly.  When backwash is running, water is flowing through the siphon very quickly due to the negative pressure.  If you close the valve and stop this process too quickly, it can \"shock\" the system and cause water to flow backwards through the pipes to return to the static head.  When ending backwash you must close this valve very slowly and gradually, at roughly 1 turn every 10 seconds.\n",
        "* Opening flow into the filter without stopping flow to effluent.  There are two valves at the junction after settled water, one controls flow to the drain, and one controls flow into the entrance tank of the filter.  Typical operation is to open flow to the filter first then stop flow to drain, to prevent flooding.  However is the influent tank is left full of water, this water will flow backwards to lower head when the valve is open, which can pull sand from the inner tank.  Thus, whenever you reconnect the filter you must first close the valve to drain, allow water to rise to about the level in the entrance tank, then open the valve to the entrance tank.  \n",
        "\n",
        "The team also observed significant amounts of sand within the exit tank, and even some in the turbidimeter reading off the exit tank. This means that sand is escaping the inner tank to effluent, which the slotted outlet pipes are designed to prevent.  This suggests that some of all of the slotted outlet pipes were designed incorrectly, and that sand can escape through these pipes.  \n",
        "\n",
        "While a few different possibilities were considered, this shows a clear failure in the filter, and means that the filter must be either be repaired or remade completely.  Work is ongoing, but the current plan is to assemble a new filter, using the design of \"gravity exclusion zones\" by [Stars FINE](https://github.com/AguaClara/StaRSFine) in Spring 2019.\n",
        "\n"
      ]
    },
    {
      "cell_type": "markdown",
      "metadata": {
        "id": "ToB7a10c8Ubg",
        "colab_type": "text"
      },
      "source": [
        " \n",
        "# Operation Manual\n",
        "\n",
        "To turn the PF 300 on and begin collecting data:\n",
        "\n",
        "1. Ensure all valves are open and flow is not blocked anywhere\n",
        "2. Turn the main pump switch from OFF to HAND to begin flow within the plant\n",
        "3. Turn on the peristaltic pump on the floc hopper and ensure the valve coming off the floc hopper is opened\n",
        "4. Turn on the HydroAct and both turbidimeters by plugging them in\n",
        "5. Turn on the main computer on the lab bench and log in on the generic AguaClara account, en-ce-ac\n",
        "6. Open ProCoDa and check that the \"Plantita_2\" method file is being read\n",
        "7. Data will automatically be collected and saved by ProCoDa, and uploaded into the cloud by Google Drive\n",
        "\n",
        "To pressurize the filter (necessary whenever there is air within the inner tank, such as after removing the lid for repairs):\n",
        "\n",
        "1. Open the valve on top of the filter to allow air to escape during process\n",
        "2. Close the outlet valve to ensure no flow is leaving the filter\n",
        "3. Water will begin to flood and raise the level within the influent tank.  Wait until water comes out of the top valve of the influent tank, then quickly close the top valve and open the effluent.  \n",
        "4. Sometimes due to the flow restrictions by the sand bed, water level will rapidly rise in the entrance tank but will not raise in the inner tank for a while.  In this case open the valve off the effluent from the sedimentation tank partially to prevent the entrance tank from overflowing, and wait until water leaves the top valve of the inner tank\n",
        "5. When you open the effluent you should hear a gurgling sound and observe flow being pulled into the effluent pipe.  This means the inner tank is pressurized and filter is operating correctly\n",
        "\n",
        "To run backwash in the filter:\n",
        "\n",
        "1. Backwash should be run whenever headloss in the entrance tank causes water level to rise significantly, typically daily.  Whenever you change the sand within the tank, you should also run backwash first to remove any particles that may have built up\n",
        "2. Ensure inner tank is pressurized and there isn't air inside\n",
        "3. Open the red backwash valve.  You should hear water being pulled through this pipe to the drain\n",
        "4. Ensure that water level in the influent tank drop to below the pipe stubs on the entrances to the other inlets.  When backwash is operating fully, water should only be flowing from the backwash line\n",
        "5. After backwash is complete, **slowly** close the backwash valve.  Once the valve is completely closed backwash should end and filter operation should resume as normal.\n",
        "\n",
        "To flush pipes (cleaning sand from within):\n",
        "\n",
        "1. Insert pipe plugs on all pipes except backwash line\n",
        "2. Start backwash cycle as normal.  Run with just backwash line for 1-2 minutes\n",
        "3. Open plug for lowest influent line (leftmost pipe).  Plug backwash line and allow water level to rise\n",
        "4. If the water level is too low (just above the pipe stub) air will also be sucked in through the line.  To prevent this, partially block the pipe stub and allow water level to raise ~6 inches above the pipe stub entrance.  We used our fingers to block this, although this is not recommended as the suction is very strong.  \n",
        "5. Swap the plugs and repeat this process for the other two pipes.  Whenever you switch flows ensure water level is high enough that air doesn't enter the pipes\n",
        "6. Once you have flushed all pipes break backwash and remove all plugs.  If sand was removed from the pipe the sand level should be observably higher"
      ]
    },
    {
      "cell_type": "markdown",
      "metadata": {
        "id": "_KUUOAum5-me",
        "colab_type": "text"
      },
      "source": [
        "# Future Work\n",
        "\n",
        "The next step is to gather continuous data from the PF300 and see how we can test the different hypothesis regarding floc blanket depths. All the sensors for data collection are ready. Additionally we need to develop a method for integrating the raw water quality data from the CWFP and merging it with the data that is collected from the PF300. \n",
        "\n",
        "The main area of focus moving forward will be on the redesign of the PF 300. This includes a redesign of the flocculator, sedimentation tank, and EStaRS Filter. Several challenges have been encounted while working with the current design and this has prompted for a redesign. "
      ]
    },
    {
      "cell_type": "markdown",
      "metadata": {
        "colab_type": "text",
        "id": "9f1GpejU5wHC"
      },
      "source": [
        "## Bibliography\n",
        "Logan, B. E., Hermanowicz, S. W., & Parker,A. S. (1987). A Fundamental Model for Trickling Filter Process Design. Journal (Water Pollution Control Federation), 59(12), 1029–1042."
      ]
    }
  ]
}