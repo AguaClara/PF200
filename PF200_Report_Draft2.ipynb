{
  "nbformat": 4,
  "nbformat_minor": 0,
  "metadata": {
    "colab": {
      "name": "PF200-Report-Draft2.ipynb",
      "provenance": [],
      "collapsed_sections": [],
      "include_colab_link": true
    },
    "kernelspec": {
      "name": "python3",
      "display_name": "Python 3"
    }
  },
  "cells": [
    {
      "cell_type": "markdown",
      "metadata": {
        "id": "view-in-github",
        "colab_type": "text"
      },
      "source": [
        "<a href=\"https://colab.research.google.com/github/AguaClara/PF200/blob/master/PF200_Report_Draft2.ipynb\" target=\"_parent\"><img src=\"https://colab.research.google.com/assets/colab-badge.svg\" alt=\"Open In Colab\"/></a>"
      ]
    },
    {
      "cell_type": "markdown",
      "metadata": {
        "id": "tpBfoDnOP9YY",
        "colab_type": "text"
      },
      "source": [
        "# PF 200, Fall 2019\n",
        "#### Whitney Denison, Fernando Merino Martinez, Nicole Wang, Jacob Wyrick, Amy You, Sandra Cangelosi\n",
        "#### November 5th, 2019"
      ]
    },
    {
      "cell_type": "markdown",
      "metadata": {
        "id": "CASatHgbV8Za",
        "colab_type": "text"
      },
      "source": [
        "## Abstract\n",
        "\n",
        "The PF200 is a small scale water treatment system designed with the goal to be easily shipped, fabricated, and implemented in small communities where a full scale plant is not economical to address their water needs. In the summer of 2019, a PF300 plant was built at the Cornell Water Treatment Plant and several design problems were found. The goal this semester is to redesign the PF200 system using the data from the PF300 summer team and other past subteams. We are currently focused on redesigning the filter by implementing a new outlet pipe design. Our ultimate goal is to redesign the entire plant, with a major focus on the filter."
      ]
    },
    {
      "cell_type": "markdown",
      "metadata": {
        "id": "yfnQ8Pp2veJm",
        "colab_type": "text"
      },
      "source": [
        "## Introduction\n",
        "The PF200 plant is designed to be a complete water treatment system that can easily be shipped and fabricated on site to provide clean water to small communities at a rate of 0.67 L/s. This is a step down from the PF300 system designed by the Summer 2019 Team to provide 1 L/s of clean water. The change in name was made when it was found that the so-called PF300 only provided 0.67 L/s, and thus could serve a community of 200 people rather than 300 as originally intended.\n",
        "\n",
        "The Summer 2019 Team built and tested the PF300 at the Cornell Water Treatment plant and found several problems with the design. The first was that the filter did not work properly. An indicator of this failure was that significant amounts of sand escaped into the exit tank from the filter during backwash. We intend to redesign the PF200 system in the following ways: The filter tank will be made with transparent PVC so that we can observe what happens during filtration and backwash. This will allow us to determine if sand continues to escape into the exit tank. The filter tank will be a rectangular prism instead of a circular PVC pipe in order to better fit EStaRS filters, allow for easier fabrication of inlet and outlet pipes, and minimize cost as a clear circular PVC pipe of that diameter is expensive. The EStaRS filter outlet pipe will be redesigned to prevent sand from entering the exit tank.\n",
        "\n",
        "This team is also responsible for the redesign of the flocculator and sedimentation tank at this smaller scale. The problems with these processes in this plant are described in the Methods section of this report.\n"
      ]
    },
    {
      "cell_type": "markdown",
      "metadata": {
        "id": "03NfvqqEvojW",
        "colab_type": "text"
      },
      "source": [
        "## Literature Review and Previous Works\n",
        "The bulk of the literature utilized in redesigning the PF200 come from reports written by the Summer 2019 PF300, StaRS FiNE, and Horizontal Filtration teams.\n",
        "\n",
        "From the [StaRS FiNE Spring 2019 report](https://github.com/AguaClara/StaRSFine/blob/master/Spring2019FinalReport.md), it was found that the minimum angle above the horizontal was defined by the slant necessary where sand begins to slide down with gravity against friction. The branched filtration tank outlet pipe idea from StaRS FInE has been modified to maximize the surface area of the sand-water interface. The filter used by PF300 has not been functioning at an acceptable level, so the small scale outlet pipe work may seem premature. However we intend to design an almost entirely new filter system, so studying past filter systems and their issues informs a new, better design.\n",
        "\n",
        "From the [Summer 2019 PF300 Team report](https://github.com/AguaClara/PF200/blob/master/Summer2019Report.md), it was shown that the current design does not work well. Based on past research, increasing the height of the floc blanket will increase the amount of small particle removal. In order to experiment with the height of the floc blanket, it would have been easy to do so if the system was transparent, however because the system is not, other methods had to be used. This prompts an important design change in this semester’s system, a transparent system so that internal processes can be easily observed. One method considered was using a rangefinder to read the height from the top of the floc blanket. Another method was to approximate the height based on the time it takes for the flocs to begin to leave the floc hopper.\n",
        "\n",
        "The Summer 2019 team primarily worked on the filter. Summer 2019 was the first time an EStaRs filter has ever been fully assembled and tested in a treatment process. The main problem identified when it was operated was the escape of sand through the influent pipes. There were times when sand escaped due to operation error, for example, running backwash without first opening the effluent line, closing the backwash valve too quickly, or opening flow into the filter without stopping flow from the effluent. However, the problem of sand escaping into the effluent from the inner tank still remains. This issue strongly indicates that the design of the slotted outlet pipes, which were meant to keep the sand contained, were designed incorrectly. Based on these results, the Summer 2019 team suggested that the filter needs to be remade completely using the design of “gravity exclusion zones” by the [StaRS FInE](https://github.com/AguaClara/StaRSFine) Spring 2019 team."
      ]
    },
    {
      "cell_type": "markdown",
      "metadata": {
        "id": "IjpN9_VPXDse",
        "colab_type": "text"
      },
      "source": [
        "# Methods \n",
        "\n",
        "## Flocculator Redesign Ideas\n",
        "The focus of this semester is redesigning the filter, so we do not have a fully fleshed out design idea for the flocculator and the large majority of redesigning has been pushed to Future Work for the team. The following figure shows a general view of the current flocculator:\n",
        "\n",
        "<img src=\"https://github.com/AguaClara/PF200/blob/master/Images/Flocculator.PNG?raw=true\" width=400> \n",
        "\n",
        "**Figure 1.** PF300 flocculator design.\n",
        "\n",
        "The previous flocculator design from Fall 2016 consisted of long pipes with contractions down the length of the pipe to generate the head loss needed for flocculation to occur. In Spring 2017, a new possible redesign was suggested consisting of PVC semicircles that would be threaded onto a rod and act like the traditional baffles. The main problems of the past designs of the flocculator were that it was expensive to fabricate because of the fittings needed. Additionally, the flocculator had a short residence time, which is the average amount of time water spends in the flocculator. Having a short residence time meant that operators would not have as much time to respond to high turbidity events that could cause dirty water to reach the sedimentation tank. Extending the residence time would give operators sufficient time to fix this kind of problems. \n",
        "\n",
        "A potential future design consisting of a large tube similar to the conventional flocculator, with baffles, is being considered. This design is inspired from the CEE 4520 project of the [Flocculatorita](https://github.com/AguaClara/CEE4520/blob/master/Previous%20Final%20Projects/2019S/Flocculatorita.md). However, given this design, a decision still needs to be made about how to keep the baffles in place. Some possible solutions are using threaded metal rods strung through each baffle or fitting the baffles into slots in the walls. However, this will all depend on what material we choose for the baffles. Beyond the baffles, the height of the flocculator must still be determined. The height of the flocculator is based on what is needed to get the desired head loss and the number of collisions necessary to form flocs that are big enough for a successful water treatment.\n",
        "\n",
        "## Sedimentation tank Redesign Ideas\n",
        "Similarly to the flocculator, the majority of redesigning the sedimentation tank is being pushed to Future Work, as the focus is on the filter. \n",
        "\n",
        "The previous design of the sedimentation tank consisted of a large pipe that was cut approximately halfway to the top, where the top half was then displaced to be at an angle. This is needed to accomodate the rectangular sedimentation settler plates, which need to be placed at an angle. The sedimentation settler plates being placed at an angle allowed the flocs to settle and to be removed by the floc hopper. At the bottom of the sedimentation tank, there is a single jet reverser that prevents floc from accumulating at the bottom of the tank. The geometry of the jet reverser allows the flocs to resuspend as water flows into the reverser. This picture shows the current sedimentation tank:\n",
        "\n",
        "<img src=\"https://github.com/AguaClara/PF200/blob/master/Images/Sedimentation%20tank.PNG?raw=true\" width=200> \n",
        "\n",
        "**Figure 2.** PF300 sedimentation tank.\n",
        "\n",
        "The main problems of the past design of the sedimentation tank mostly involved the fabrication of the tank. The slanted top of the tank is very difficult to fabricate, which is contrary to the main goal of the PF200 water treatment plant: being an easily built plant. Besides the angled top, the bottom geometry of the tank was also hard to manufacture, as jet reversers are typically designed for rectangular plants. Fitting a rectangular design into a circular tank was a challenge that resulted in several problems with fabrication. Besides fabrication issues, the floc hopper used was also too small and resulted in flocs building up in the tank. \n",
        "For a redesign, one consideration that would need to be accounted for is the rectangular shape that is optimal for fabrication. If a straight, rectangular tank was used, much of the fabrication issues would be immediately solved. Additionally, a possible new plate settler design is a hexagonal straw plate settler, which would eliminate the need to slant the tank. \n",
        "\n",
        "\n",
        "\n",
        "## Experimental Apparatus: Filter Redesign\n",
        "## Filtration system\n",
        "The filtration system has four main components: the entrance tank, the filter body, the exit tank and the backwash line. The main problems dealing with the previous filter design were that significant losses of sand were observed during the operation of the system, and that the filtration system never filtered properly. These sand losses happened in three main ways: through the exit pipes, through the entrance pipes, and through the backwash line.\n",
        "\n",
        "The aim of the PF200 team is to introduce gravity exclusion zones in the outlets, as seen in the StaRs FInE team. A new full filter is to be designed and the possible alternatives to be be tested. Several horizontal flow channels will be introduced at each of the sand layers of the filter, whose main objective is to increase the surface area of the interaction between the sand particles and the water. The option the team has considered is building flow channels like the one shown in the following figures:\n",
        "\n",
        "<img src=\"https://github.com/AguaClara/PF200/blob/master/Images/filter%20front.PNG?raw=true\" width=200> \n",
        "\n",
        "**Figure 3.** Front view of the filter pieces used for the gravity exclusion zones.\n",
        "\n",
        "<img src=\"https://github.com/AguaClara/PF200/blob/master/Images/filter%20isom.PNG?raw=true\" width=300> \n",
        "\n",
        "**Figure 4.** Perspective of the filter branches.\n",
        "\n",
        "The team is working on the new filter design considering the fastest flow conditions, right after the backwash process has ended and forward filtration is beginning. The design of these branches involved an optimization process in which the team encountered too many variables and few constraints to be able to determine a final design with fixed dimensions. This led to several unsuccessful iterations with results that were not feasible.\n",
        "After having some meetings and prioritizing certain fixed variables (such as branch angle and total length of the cross-section), and including new constraints, a definitive design was reached. The constraints that have been used are related to the overall dimension of the filter tank, the head loss that is required, and the inclination of the branches, among others. \n"
      ]
    },
    {
      "cell_type": "markdown",
      "metadata": {
        "id": "KppplSb3sX_q",
        "colab_type": "text"
      },
      "source": [
        "# Results and Analysis\n",
        "\n",
        "## Dimensions of the Flow Channel\n",
        "\n",
        "The design of the flow channel for the outlet of the filter is constrained mostly by the surface area of the sand-water interface and the width of the cross-section. The proposed constraint involves the ability to have three flow channels in each layer of the filter, with about 10 centimeters from center of one to the center of the next. Because water needs to be able to flow in between these channels and backwash velocities put strain on the branches, minimizing the width of these branches was another consideration in these calculations. \n",
        "\n",
        "<img src=\"https://raw.githubusercontent.com/AguaClara/PF200/master/Images/Image%2011-4-19%20at%207.04%20PM.jpg\" width=500> \n",
        "\n",
        "**Figure 5.** Cross-section sketch showing the variables naming.\n",
        "\n",
        "The team used the Excel Solver tool to find the necessary number of branches and the length of each branch and the height of the trapezoid based on an alpha angle of 30 degrees (the minimum angle of inclination where sand begins to slide down by itself was found by StaRS FInE in 2018) and a T equal to 0.6 cm (because the holes that are to be drilled are 2 mm in diameter and there are 2 mm on either side to allow for room to drill. The total length of the sand-water interface cross-section should be 22 cm = 2·cos(alpha)·s+T + 2·n·s·cos(alpha).  We can get this cross-section if we have a width of the flow channel equal to L + 2·s·cos(alpha). In this case, with the solver tool, an alpha equal to 0.5234 radians (30 degrees), a beta equal to 1.309 radians (75 degrees), the resulting width was 7.68 cm which is a reasonable width because it allows for about 5cm of free water flow inbetween channels during backwash. \n",
        "The other resulting variables are :\n",
        "- L = 2.85 cm\n",
        "-T = 0.6 cm\n",
        "-n (number of branches) = 4\n",
        "-s = 2.79 cm\n",
        "-h = 4.19 cm\n",
        "\n",
        "\n",
        "\n",
        "\n",
        "<img src=\"https://github.com/AguaClara/PF200/blob/master/Images/Cross%20section%202.PNG?raw=true\" width=900> \n",
        "\n",
        "**Figure 6.** CAD file showing the cross-section of the flow channels"
      ]
    },
    {
      "cell_type": "markdown",
      "metadata": {
        "colab_type": "text",
        "id": "l5Ijqi0oSoNd"
      },
      "source": [
        "# Conclusions\n",
        "\n",
        "Based on the results of the calculations, the actual filter still has to be fabricated. This will be an almost entirely new filter design, so multiple iterations will likely have to be made to test which will actually prove to be the ideal design. The most important constraints are that the flow channel must be able to handle the force from the backwash velocity and will not allow sand to escape. Based on this testing, the best model will be found and the model can be made from PVC sheets rather than 3D printing, as it would be when the plant is actually fabricated. The model will be made with transparent PVC in order to see what occurs during filtration and backwash, more specifically to see if sand is escaping. More testing will be done again to establish that this is a viable design.\n"
      ]
    },
    {
      "cell_type": "markdown",
      "metadata": {
        "colab_type": "text",
        "id": "Yu0iBq2hT74Q"
      },
      "source": [
        "# Future work\n",
        "\n",
        "The largest project currently is the building of a full, working filter. The materials to build the tanks and main filter and inlets and outlets need to be purchased and fabrication begun. Ultimately, CNC technology will be used to fabricate 9 flow channels. Right now, there is emphasis on redesigning the filter, so the tasks of working on the sedimentation tank and the flocculator are being pushed to the future.\n",
        "\n"
      ]
    }
  ]
}